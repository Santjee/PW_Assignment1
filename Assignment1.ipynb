{
 "cells": [
  {
   "cell_type": "markdown",
   "id": "ee52fd02-22b0-4441-88f4-a1c10b45757e",
   "metadata": {},
   "source": [
    "#Q1. Create one variable containing following type of data:"
   ]
  },
  {
   "cell_type": "code",
   "execution_count": 2,
   "id": "08e7e0b1-f9f9-47cd-8715-3c61436bc8c6",
   "metadata": {},
   "outputs": [],
   "source": [
    "name = 'Santjee'\n",
    "\n"
   ]
  },
  {
   "cell_type": "code",
   "execution_count": 3,
   "id": "a7fa306c-ec51-442d-9721-f4bc3f408897",
   "metadata": {},
   "outputs": [
    {
     "data": {
      "text/plain": [
       "str"
      ]
     },
     "execution_count": 3,
     "metadata": {},
     "output_type": "execute_result"
    }
   ],
   "source": [
    "type(name)\n",
    "\n"
   ]
  },
  {
   "cell_type": "code",
   "execution_count": 4,
   "id": "7d5d0908-4a8d-4b99-b865-60f4f30c911d",
   "metadata": {},
   "outputs": [
    {
     "data": {
      "text/plain": [
       "float"
      ]
     },
     "execution_count": 4,
     "metadata": {},
     "output_type": "execute_result"
    }
   ],
   "source": [
    "marks = 9.5\n",
    "type(marks)"
   ]
  },
  {
   "cell_type": "code",
   "execution_count": 5,
   "id": "e36471f5-9e01-4fee-b835-de212a727f10",
   "metadata": {},
   "outputs": [
    {
     "data": {
      "text/plain": [
       "list"
      ]
     },
     "execution_count": 5,
     "metadata": {},
     "output_type": "execute_result"
    }
   ],
   "source": [
    "l = [3,5,6,'sant',True,5.6]\n",
    "type(l)"
   ]
  },
  {
   "cell_type": "code",
   "execution_count": 6,
   "id": "b25c77a9-1eb6-4d33-a5b0-a9f7e118fa5a",
   "metadata": {},
   "outputs": [
    {
     "data": {
      "text/plain": [
       "tuple"
      ]
     },
     "execution_count": 6,
     "metadata": {},
     "output_type": "execute_result"
    }
   ],
   "source": [
    "t = (34,56,34,'sant',5.7)\n",
    "type(t)"
   ]
  },
  {
   "cell_type": "markdown",
   "id": "aff6c84e-6861-47e7-8cf6-df3991343ef5",
   "metadata": {},
   "source": [
    "Q2. Given are some following variables containing data:"
   ]
  },
  {
   "cell_type": "code",
   "execution_count": 7,
   "id": "4c4bc360-385e-4527-960c-e88add4c447c",
   "metadata": {},
   "outputs": [
    {
     "data": {
      "text/plain": [
       "str"
      ]
     },
     "execution_count": 7,
     "metadata": {},
     "output_type": "execute_result"
    }
   ],
   "source": [
    "var1 = ''\n",
    "type(var1)"
   ]
  },
  {
   "cell_type": "code",
   "execution_count": 8,
   "id": "7d022cb1-3ae3-4cbe-b81f-13e7e52840bc",
   "metadata": {},
   "outputs": [
    {
     "data": {
      "text/plain": [
       "str"
      ]
     },
     "execution_count": 8,
     "metadata": {},
     "output_type": "execute_result"
    }
   ],
   "source": [
    "var2 = '[DS,ML,python]'\n",
    "type(var2)"
   ]
  },
  {
   "cell_type": "code",
   "execution_count": 9,
   "id": "88d89cba-2ab8-4022-9b2b-02883d26726e",
   "metadata": {},
   "outputs": [
    {
     "data": {
      "text/plain": [
       "list"
      ]
     },
     "execution_count": 9,
     "metadata": {},
     "output_type": "execute_result"
    }
   ],
   "source": [
    "var3 = ['DS','ML','Python']\n",
    "type(var3)"
   ]
  },
  {
   "cell_type": "code",
   "execution_count": 10,
   "id": "0eadffc9-dfc3-4042-8317-c452ac4f59d7",
   "metadata": {},
   "outputs": [
    {
     "data": {
      "text/plain": [
       "float"
      ]
     },
     "execution_count": 10,
     "metadata": {},
     "output_type": "execute_result"
    }
   ],
   "source": [
    "var4 = 1.\n",
    "type(var4)"
   ]
  },
  {
   "cell_type": "markdown",
   "id": "68c94ad5-ec80-4b8d-84e4-cbf0d2d1a111",
   "metadata": {},
   "source": [
    "Q3. Explain the use of the following operators using an example:"
   ]
  },
  {
   "cell_type": "code",
   "execution_count": 11,
   "id": "6f09620a-b53a-4014-bc17-ec341daf1d7f",
   "metadata": {},
   "outputs": [],
   "source": [
    "a = 10\n",
    "b = 3"
   ]
  },
  {
   "cell_type": "code",
   "execution_count": 12,
   "id": "454ddf74-1f31-4b02-9278-ff80ef864ebd",
   "metadata": {},
   "outputs": [
    {
     "data": {
      "text/plain": [
       "3.3333333333333335"
      ]
     },
     "execution_count": 12,
     "metadata": {},
     "output_type": "execute_result"
    }
   ],
   "source": [
    "div = a/b\n",
    "div"
   ]
  },
  {
   "cell_type": "code",
   "execution_count": 13,
   "id": "4e919ad0-2cf5-4900-bb7d-297737104086",
   "metadata": {},
   "outputs": [
    {
     "data": {
      "text/plain": [
       "1"
      ]
     },
     "execution_count": 13,
     "metadata": {},
     "output_type": "execute_result"
    }
   ],
   "source": [
    "mod = a%b\n",
    "mod"
   ]
  },
  {
   "cell_type": "code",
   "execution_count": 14,
   "id": "b1b86561-b268-441a-9243-78f4b3056701",
   "metadata": {},
   "outputs": [
    {
     "data": {
      "text/plain": [
       "1000"
      ]
     },
     "execution_count": 14,
     "metadata": {},
     "output_type": "execute_result"
    }
   ],
   "source": [
    "power = a**b\n",
    "power"
   ]
  },
  {
   "cell_type": "code",
   "execution_count": 15,
   "id": "959d2827-3c45-4ffb-b90b-ba598b93df6c",
   "metadata": {},
   "outputs": [
    {
     "data": {
      "text/plain": [
       "3"
      ]
     },
     "execution_count": 15,
     "metadata": {},
     "output_type": "execute_result"
    }
   ],
   "source": [
    "c = a//b\n",
    "c"
   ]
  },
  {
   "cell_type": "markdown",
   "id": "9ca3f013-8a43-4e68-85be-514116ef765d",
   "metadata": {},
   "source": [
    "Q4. Create a list of length 10 of your choice containing multiple types of data. Using for loop print the\n",
    "element and its data type."
   ]
  },
  {
   "cell_type": "code",
   "execution_count": 16,
   "id": "fb32620a-2446-4293-8f84-f5690db4a0bc",
   "metadata": {},
   "outputs": [],
   "source": [
    "l = [45,30,'sant',3.5,True,34.,45,90,'Gupta',1]"
   ]
  },
  {
   "cell_type": "code",
   "execution_count": 18,
   "id": "3d27ad12-c8ae-4790-87b3-2770261fa0a5",
   "metadata": {},
   "outputs": [
    {
     "name": "stdout",
     "output_type": "stream",
     "text": [
      "45\n",
      "<class 'int'>\n",
      "30\n",
      "<class 'int'>\n",
      "sant\n",
      "<class 'str'>\n",
      "3.5\n",
      "<class 'float'>\n",
      "True\n",
      "<class 'bool'>\n",
      "34.0\n",
      "<class 'float'>\n",
      "45\n",
      "<class 'int'>\n",
      "90\n",
      "<class 'int'>\n",
      "Gupta\n",
      "<class 'str'>\n",
      "1\n",
      "<class 'int'>\n"
     ]
    }
   ],
   "source": [
    "for i in l:\n",
    "    print(i)\n",
    "    print(type(i))"
   ]
  },
  {
   "cell_type": "markdown",
   "id": "e45b9b6c-8b97-4d94-bb5e-d93d2f22decb",
   "metadata": {},
   "source": [
    "Q5. Using a while loop, verify if the number A is purely divisible by number B and if so then how many\n",
    "times it can be divisible."
   ]
  },
  {
   "cell_type": "code",
   "execution_count": 32,
   "id": "3aedd39c-e7f1-403b-9f0e-f758ff247fc4",
   "metadata": {},
   "outputs": [
    {
     "name": "stdin",
     "output_type": "stream",
     "text": [
      "Enter A number:\n",
      " 32\n",
      "Enter B number:\n",
      " 2\n"
     ]
    },
    {
     "name": "stdout",
     "output_type": "stream",
     "text": [
      "divided by 5 times.\n"
     ]
    }
   ],
   "source": [
    "A = int(input(\"Enter A number:\\n\"))\n",
    "B = int(input(\"Enter B number:\\n\"))\n",
    "count = 0\n",
    "while A % B == 0:\n",
    "    A = A // B\n",
    "    count += 1\n",
    "print(\"divided by\",count,\"times.\")    "
   ]
  },
  {
   "cell_type": "markdown",
   "id": "78d70408-defd-44ee-b3af-fb81d1ee4aef",
   "metadata": {},
   "source": [
    "Q6. Create a list containing 25 int type data. Using for loop and if-else condition print if the element is\n",
    "divisible by 3 or not."
   ]
  },
  {
   "cell_type": "code",
   "execution_count": 33,
   "id": "9d241e98-fc4b-4941-b2a9-94b1cfb5d785",
   "metadata": {},
   "outputs": [
    {
     "name": "stdout",
     "output_type": "stream",
     "text": [
      "1 is not divisible by 3\n",
      "2 is not divisible by 3\n",
      "3 is divisible by 3\n",
      "4 is not divisible by 3\n",
      "5 is not divisible by 3\n",
      "6 is divisible by 3\n",
      "7 is not divisible by 3\n",
      "8 is not divisible by 3\n",
      "9 is divisible by 3\n",
      "10 is not divisible by 3\n",
      "11 is not divisible by 3\n",
      "12 is divisible by 3\n",
      "13 is not divisible by 3\n",
      "14 is not divisible by 3\n",
      "15 is divisible by 3\n",
      "16 is not divisible by 3\n",
      "17 is not divisible by 3\n",
      "18 is divisible by 3\n",
      "19 is not divisible by 3\n",
      "20 is not divisible by 3\n",
      "21 is divisible by 3\n",
      "22 is not divisible by 3\n",
      "23 is not divisible by 3\n",
      "24 is divisible by 3\n",
      "25 is not divisible by 3\n"
     ]
    }
   ],
   "source": [
    "# Creating a list of 25 integers\n",
    "numbers = list(range(1, 26))\n",
    "\n",
    "# Using a for loop and if-else condition to check divisibility by 3\n",
    "for number in numbers:\n",
    "    if number % 3 == 0:\n",
    "        print(f\"{number} is divisible by 3\")\n",
    "    else:\n",
    "        print(f\"{number} is not divisible by 3\")\n"
   ]
  },
  {
   "cell_type": "markdown",
   "id": "84bf44c3-61ea-476b-b2b9-5c6dddf57940",
   "metadata": {},
   "source": [
    "Q7. What do you understand about mutable and immutable data types? Give examples for both showing\n",
    "this property."
   ]
  },
  {
   "cell_type": "code",
   "execution_count": 35,
   "id": "b2dc5b7b-970a-4351-8c76-fdb985b75e64",
   "metadata": {},
   "outputs": [
    {
     "name": "stdout",
     "output_type": "stream",
     "text": [
      "[1, 2, 3, 4]\n"
     ]
    }
   ],
   "source": [
    "'''Mutable Data Types\n",
    "Mutable data types wo hote hain jinke values ko aap change kar sakte ho bina naye object create kiye. Matlab, inka internal state modify ho sakta hai.\n",
    "\n",
    "Examples:'''\n",
    "my_list = [1, 2, 3]\n",
    "my_list.append(4)  \n",
    "print(my_list)  \n"
   ]
  },
  {
   "cell_type": "code",
   "execution_count": 36,
   "id": "95c62b72-ecb7-4c5b-bae8-24e30bb7f068",
   "metadata": {},
   "outputs": [
    {
     "name": "stdout",
     "output_type": "stream",
     "text": [
      "Hello World\n",
      "Hello\n"
     ]
    }
   ],
   "source": [
    "'''Immutable Data Types\n",
    "Immutable data types wo hote hain jinke values ko aap change nahi kar sakte once they are created. Agar aapko value change karni hai, toh aapko naya object create karna padega.\n",
    "\n",
    "Examples:'''\n",
    "my_string = \"Hello\"\n",
    "new_string = my_string + \" World\"  \n",
    "print(new_string)  \n",
    "print(my_string)  \n"
   ]
  },
  {
   "cell_type": "code",
   "execution_count": null,
   "id": "dad0088d-d603-4edf-9fd5-caf30f2e98d5",
   "metadata": {},
   "outputs": [],
   "source": []
  }
 ],
 "metadata": {
  "kernelspec": {
   "display_name": "Python 3 (ipykernel)",
   "language": "python",
   "name": "python3"
  },
  "language_info": {
   "codemirror_mode": {
    "name": "ipython",
    "version": 3
   },
   "file_extension": ".py",
   "mimetype": "text/x-python",
   "name": "python",
   "nbconvert_exporter": "python",
   "pygments_lexer": "ipython3",
   "version": "3.10.8"
  }
 },
 "nbformat": 4,
 "nbformat_minor": 5
}
